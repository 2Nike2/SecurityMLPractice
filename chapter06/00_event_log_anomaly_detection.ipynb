{
 "cells": [
  {
   "cell_type": "markdown",
   "metadata": {},
   "source": [
    "### データセット取得\n",
    "https://raw.githubusercontent.com/oreilly-japan/ml-security-jp/master/ch06/HostLogons-demo.csv  \n",
    "を取得して、同じディレクトリに格納"
   ]
  },
  {
   "cell_type": "code",
   "execution_count": null,
   "metadata": {},
   "outputs": [],
   "source": [
    "import pandas as pd\n",
    "import matplotlib.pyplot as plt\n",
    "import matplotlib.dates as mdates\n",
    "from statsmodels.tsa.seasonal import seasonal_decompose\n",
    "from prophet import Prophet\n",
    "from msticpy.analysis.timeseries import timeseries_anomalies_stl\n",
    "from msticpy.nbtools.timeseries import display_timeseries_anomalies"
   ]
  },
  {
   "cell_type": "code",
   "execution_count": null,
   "metadata": {},
   "outputs": [],
   "source": [
    "df = pd.read_csv('HostLogons-demo.csv', parse_dates=['Date'])"
   ]
  },
  {
   "cell_type": "code",
   "execution_count": null,
   "metadata": {},
   "outputs": [],
   "source": [
    "df"
   ]
  },
  {
   "cell_type": "code",
   "execution_count": null,
   "metadata": {},
   "outputs": [],
   "source": [
    "df_LogonSum = df.groupby(['Date', 'ComputerName'])['TotalLogons'].sum().reset_index()\n",
    "df_LogonSum = df_LogonSum[['Date', 'TotalLogons']] # ComputerNameが1種類だけなので問題ないが、複数ある場合を考えるとDateだけでgroupbyするべきでは?"
   ]
  },
  {
   "cell_type": "code",
   "execution_count": null,
   "metadata": {},
   "outputs": [],
   "source": [
    "df_LogonSum"
   ]
  },
  {
   "cell_type": "code",
   "execution_count": null,
   "metadata": {},
   "outputs": [],
   "source": [
    "fig = plt.figure(figsize=(15, 7))\n",
    "ax = fig.add_subplot(1, 1, 1)\n",
    "ax.plot(df_LogonSum['Date'], df_LogonSum['TotalLogons'], label='original')\n",
    "ax.plot(df_LogonSum['Date'], df_LogonSum['TotalLogons'].rolling(window=7).mean(), label='rolling', ls='dashed')\n",
    "\n",
    "plt.title('Daily TotalLogons')\n",
    "\n",
    "daysFmt = mdates.DateFormatter('%Y-%m-%d')\n",
    "ax.xaxis.set_major_formatter(daysFmt)\n",
    "fig.autofmt_xdate()\n",
    "\n",
    "plt.grid(True)\n",
    "\n",
    "plt.show()"
   ]
  },
  {
   "cell_type": "code",
   "execution_count": null,
   "metadata": {},
   "outputs": [],
   "source": [
    "result = seasonal_decompose(df_LogonSum['TotalLogons'],\n",
    "                            model='multiplicative',\n",
    "                            period=7)"
   ]
  },
  {
   "cell_type": "code",
   "execution_count": null,
   "metadata": {},
   "outputs": [],
   "source": [
    "fig, axes = plt.subplots(nrows=4, ncols=1, figsize=(15, 7), sharex=True)\n",
    "plt.subplots_adjust(hspace=0.5)\n",
    "\n",
    "axes[0].set_title('Observed')\n",
    "axes[0].plot(result.observed)\n",
    "\n",
    "axes[1].set_title('Trend')\n",
    "axes[1].plot(result.trend)\n",
    "\n",
    "axes[2].set_title('Seasonal')\n",
    "axes[2].plot(result.seasonal)\n",
    "\n",
    "axes[3].set_title('Residual')\n",
    "axes[3].plot(result.resid)\n",
    "\n",
    "plt.show()"
   ]
  },
  {
   "cell_type": "code",
   "execution_count": null,
   "metadata": {},
   "outputs": [],
   "source": [
    "trend = result.trend\n",
    "trend = pd.DataFrame({'trend': trend, 'date': df_LogonSum['Date']})\n",
    "trend['date'] = pd.to_datetime(trend['date'], format='%Y-%m-%d')\n",
    "trend = trend.set_index('date')\n",
    "trend = trend.plot()"
   ]
  },
  {
   "cell_type": "code",
   "execution_count": null,
   "metadata": {},
   "outputs": [],
   "source": [
    "def fit_predict_model(dataframe):\n",
    "\n",
    "    model = Prophet(\n",
    "        daily_seasonality=False,\n",
    "        weekly_seasonality=False,\n",
    "        yearly_seasonality=False,\n",
    "        seasonality_mode='multiplicative',\n",
    "        interval_width=0.99,\n",
    "        changepoint_range=0.8\n",
    "    )\n",
    "    model.add_seasonality(name='monthly', period=30.5, fourier_order=5)\n",
    "\n",
    "    model = model.fit(dataframe)\n",
    "\n",
    "    forecast = model.predict(dataframe)\n",
    "\n",
    "    forecast['fact'] = dataframe['y'].reset_index(drop=True)\n",
    "\n",
    "    fig1 = model.plot(forecast)\n",
    "    \n",
    "    return forecast"
   ]
  },
  {
   "cell_type": "code",
   "execution_count": null,
   "metadata": {},
   "outputs": [],
   "source": [
    "df_LogonSum.columns = ['ds', 'y']\n",
    "pred = fit_predict_model(df_LogonSum)"
   ]
  },
  {
   "cell_type": "code",
   "execution_count": null,
   "metadata": {},
   "outputs": [],
   "source": [
    "pred.head()"
   ]
  },
  {
   "cell_type": "code",
   "execution_count": null,
   "metadata": {},
   "outputs": [],
   "source": [
    "def detect_anomalies(forecast):\n",
    "\n",
    "    forecasted = forecast[['ds', 'trend', 'yhat', 'yhat_lower', 'yhat_upper', 'fact']].copy()\n",
    "\n",
    "    forecasted['anomalies'] = 0\n",
    "\n",
    "    forecasted.loc[forecasted['fact'] > forecasted['yhat_upper'], 'anomalies'] = 1\n",
    "\n",
    "    return forecasted\n"
   ]
  },
  {
   "cell_type": "code",
   "execution_count": null,
   "metadata": {},
   "outputs": [],
   "source": [
    "pred = detect_anomalies(pred)"
   ]
  },
  {
   "cell_type": "code",
   "execution_count": null,
   "metadata": {},
   "outputs": [],
   "source": [
    "pred[pred.anomalies == 1]"
   ]
  },
  {
   "cell_type": "code",
   "execution_count": null,
   "metadata": {},
   "outputs": [],
   "source": [
    "df = pd.read_csv('HostLogons-demo.csv', parse_dates=['Date'])\n",
    "df_LogonSum = df.groupby(['Date', 'ComputerName'])['TotalLogons'].sum().reset_index()\n",
    "\n",
    "df_LogonSum = df_LogonSum[['Date', 'TotalLogons']]\n",
    "df_LogonSum = df_LogonSum.set_index('Date')\n",
    "\n",
    "output = timeseries_anomalies_stl(df_LogonSum, seasonal=31)"
   ]
  },
  {
   "cell_type": "code",
   "execution_count": null,
   "metadata": {},
   "outputs": [],
   "source": [
    "output[output.anomalies == 1]"
   ]
  },
  {
   "cell_type": "code",
   "execution_count": null,
   "metadata": {},
   "outputs": [],
   "source": [
    "timeseries_anomalies_plot = display_timeseries_anomalies(\n",
    "    data=output,\n",
    "    y='TotalLogons',\n",
    "    time_column='Date'\n",
    ")"
   ]
  },
  {
   "cell_type": "code",
   "execution_count": null,
   "metadata": {},
   "outputs": [],
   "source": []
  }
 ],
 "metadata": {
  "kernelspec": {
   "display_name": "venv",
   "language": "python",
   "name": "python3"
  },
  "language_info": {
   "codemirror_mode": {
    "name": "ipython",
    "version": 3
   },
   "file_extension": ".py",
   "mimetype": "text/x-python",
   "name": "python",
   "nbconvert_exporter": "python",
   "pygments_lexer": "ipython3",
   "version": "3.10.14"
  }
 },
 "nbformat": 4,
 "nbformat_minor": 2
}
