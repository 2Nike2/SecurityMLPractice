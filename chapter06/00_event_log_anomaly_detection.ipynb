{
 "cells": [
  {
   "cell_type": "markdown",
   "metadata": {},
   "source": [
    "### データセット取得\n",
    "https://raw.githubusercontent.com/oreilly-japan/ml-security-jp/master/ch06/HostLogons-demo.csv  \n",
    "を取得して、同じディレクトリに格納"
   ]
  },
  {
   "cell_type": "code",
   "execution_count": null,
   "metadata": {},
   "outputs": [],
   "source": [
    "import pandas as pd\n",
    "import matplotlib.pyplot as plt\n",
    "import matplotlib.dates as mdates"
   ]
  },
  {
   "cell_type": "code",
   "execution_count": null,
   "metadata": {},
   "outputs": [],
   "source": [
    "df = pd.read_csv('HostLogons-demo.csv', parse_dates=['Date'])"
   ]
  },
  {
   "cell_type": "code",
   "execution_count": null,
   "metadata": {},
   "outputs": [],
   "source": [
    "df"
   ]
  },
  {
   "cell_type": "code",
   "execution_count": null,
   "metadata": {},
   "outputs": [],
   "source": [
    "df_LogonSum = df.groupby(['Date', 'ComputerName'])['TotalLogons'].sum().reset_index()\n",
    "df_LogonSum = df_LogonSum[['Date', 'TotalLogons']] # ComputerNameが1種類だけなので問題ないが、複数ある場合を考えるとDateだけでgroupbyするべきでは?"
   ]
  },
  {
   "cell_type": "code",
   "execution_count": null,
   "metadata": {},
   "outputs": [],
   "source": [
    "df_LogonSum"
   ]
  },
  {
   "cell_type": "code",
   "execution_count": null,
   "metadata": {},
   "outputs": [],
   "source": [
    "fig = plt.figure(figsize=(15, 7))\n",
    "ax = fig.add_subplot(1, 1, 1)\n",
    "ax.plot(df_LogonSum['Date'], df_LogonSum['TotalLogons'], label='original')\n",
    "ax.plot(df_LogonSum['Date'], df_LogonSum['TotalLogons'].rolling(window=7).mean(), label='rolling', ls='dashed')\n",
    "\n",
    "plt.title('Daily TotalLogons')\n",
    "\n",
    "daysFmt = mdates.DateFormatter('%Y-%m-%d')\n",
    "ax.xaxis.set_major_formatter(daysFmt)\n",
    "fig.autofmt_xdate()\n",
    "\n",
    "plt.grid(True)\n",
    "\n",
    "plt.show()"
   ]
  },
  {
   "cell_type": "code",
   "execution_count": null,
   "metadata": {},
   "outputs": [],
   "source": []
  }
 ],
 "metadata": {
  "kernelspec": {
   "display_name": "venv",
   "language": "python",
   "name": "python3"
  },
  "language_info": {
   "codemirror_mode": {
    "name": "ipython",
    "version": 3
   },
   "file_extension": ".py",
   "mimetype": "text/x-python",
   "name": "python",
   "nbconvert_exporter": "python",
   "pygments_lexer": "ipython3",
   "version": "3.10.14"
  }
 },
 "nbformat": 4,
 "nbformat_minor": 2
}
