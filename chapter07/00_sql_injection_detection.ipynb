{
 "cells": [
  {
   "cell_type": "markdown",
   "metadata": {},
   "source": [
    "### データセットの取得\n",
    "同じディレクトリで  \n",
    "git clone https://github.com/Morzeux/HttpParamsDataset  \n",
    "を実行してデータを取得する"
   ]
  },
  {
   "cell_type": "code",
   "execution_count": null,
   "metadata": {},
   "outputs": [],
   "source": [
    "import pandas as pd\n",
    "import numpy as np\n",
    "import matplotlib.pyplot as plt\n",
    "from sklearn.tree import DecisionTreeClassifier\n",
    "from sklearn.metrics import accuracy_score, confusion_matrix\n",
    "from sklearn.model_selection import train_test_split, cross_validate\n",
    "import optuna"
   ]
  },
  {
   "cell_type": "code",
   "execution_count": null,
   "metadata": {},
   "outputs": [],
   "source": [
    "df = pd.read_csv('./HttpParamsDataset/payload_train.csv')"
   ]
  },
  {
   "cell_type": "code",
   "execution_count": null,
   "metadata": {},
   "outputs": [],
   "source": [
    "df"
   ]
  },
  {
   "cell_type": "code",
   "execution_count": null,
   "metadata": {},
   "outputs": [],
   "source": [
    "def H_entropy(x):\n",
    "    prob = [ float(x.count(c)) / len(x) for c in dict.fromkeys(list(x))]\n",
    "    H = - sum([ p * np.log2(p) for p in prob])\n",
    "    return H"
   ]
  },
  {
   "cell_type": "code",
   "execution_count": null,
   "metadata": {},
   "outputs": [],
   "source": [
    "df_norm = df[df.attack_type == 'norm']\n",
    "\n",
    "norm_entropies = []\n",
    "\n",
    "for i in df_norm['payload']:\n",
    "    norm_entropies.append(H_entropy(i))"
   ]
  },
  {
   "cell_type": "code",
   "execution_count": null,
   "metadata": {},
   "outputs": [],
   "source": [
    "print('通常の場合のエントロピー', sum(norm_entropies) / len(norm_entropies))"
   ]
  },
  {
   "cell_type": "code",
   "execution_count": null,
   "metadata": {},
   "outputs": [],
   "source": [
    "df_sqli = df[df.attack_type == 'sqli']\n",
    "\n",
    "sqli_entropies = []\n",
    "\n",
    "for i in df_sqli['payload']:\n",
    "    sqli_entropies.append(H_entropy(i))"
   ]
  },
  {
   "cell_type": "code",
   "execution_count": null,
   "metadata": {},
   "outputs": [],
   "source": [
    "print('SQLインジェクションの場合のエントロピー', sum(sqli_entropies) / len(sqli_entropies))"
   ]
  },
  {
   "cell_type": "code",
   "execution_count": null,
   "metadata": {},
   "outputs": [],
   "source": [
    "fig, ax = plt.subplots()\n",
    "\n",
    "ax.set_title('Entropies of normal HTTP query string')\n",
    "ax.set_xlabel('Entropy')\n",
    "ax.set_ylabel('Numbers')\n",
    "plt.hist(norm_entropies, bins=30, range=(0, 6), color='green')\n",
    "plt.show()"
   ]
  },
  {
   "cell_type": "code",
   "execution_count": null,
   "metadata": {},
   "outputs": [],
   "source": [
    "fig, ax = plt.subplots()\n",
    "\n",
    "ax.set_title('Entropies of SQLi HTTP query string')\n",
    "ax.set_xlabel('Entropy')\n",
    "ax.set_ylabel('Numbers')\n",
    "plt.hist(sqli_entropies, bins=30, range=(0, 6), color='red')\n",
    "plt.show()"
   ]
  },
  {
   "cell_type": "code",
   "execution_count": null,
   "metadata": {},
   "outputs": [],
   "source": [
    "df_sqli = df[df.attack_type == 'sqli']\n",
    "df_sqli"
   ]
  },
  {
   "cell_type": "code",
   "execution_count": null,
   "metadata": {},
   "outputs": [],
   "source": [
    "print('{:.2f}%'.format(\n",
    "    df_sqli['payload'].str.contains('\\)').sum() / len(df_sqli['payload']) * 100\n",
    "))"
   ]
  },
  {
   "cell_type": "code",
   "execution_count": null,
   "metadata": {},
   "outputs": [],
   "source": [
    "df_norm = df[df.attack_type == 'norm']\n",
    "df_norm"
   ]
  },
  {
   "cell_type": "code",
   "execution_count": null,
   "metadata": {},
   "outputs": [],
   "source": [
    "print('{:.2f}%'.format(\n",
    "    df_norm['payload'].str.contains('\\)').sum() / len(df_norm['payload']) * 100\n",
    "))"
   ]
  },
  {
   "cell_type": "code",
   "execution_count": null,
   "metadata": {},
   "outputs": [],
   "source": [
    "def func_preprocessing(df):\n",
    "    train_rows = ((df.attack_type == 'norm') | (df.attack_type == 'sqli'))\n",
    "    df = df[train_rows]\n",
    "\n",
    "    entropies = []\n",
    "    closing_parenthesis = []\n",
    "\n",
    "    for i in df['payload']:\n",
    "\n",
    "        entropies.append(H_entropy(i))\n",
    "\n",
    "        if i.count(')'):\n",
    "            closing_parenthesis.append(1)\n",
    "        else:\n",
    "            closing_parenthesis.append(0)\n",
    "\n",
    "    df = df.assign(entropy=entropies)\n",
    "    df = df.assign(closing_parenthesis=closing_parenthesis)\n",
    "\n",
    "    rep = df.label.replace({\"norm\":0, \"anom\":1})\n",
    "    df = df.assign(label=rep)\n",
    "    \n",
    "    return df"
   ]
  },
  {
   "cell_type": "code",
   "execution_count": null,
   "metadata": {},
   "outputs": [],
   "source": [
    "df = func_preprocessing(df)\n",
    "df"
   ]
  },
  {
   "cell_type": "code",
   "execution_count": null,
   "metadata": {},
   "outputs": [],
   "source": [
    "test_data = pd.read_csv('./HttpParamsDataset/payload_test.csv')\n",
    "test_data = func_preprocessing(test_data)"
   ]
  },
  {
   "cell_type": "code",
   "execution_count": null,
   "metadata": {},
   "outputs": [],
   "source": [
    "df_x = df[['length', 'entropy', 'closing_parenthesis']]\n",
    "test_x = test_data[['length', 'entropy', 'closing_parenthesis']]"
   ]
  },
  {
   "cell_type": "code",
   "execution_count": null,
   "metadata": {},
   "outputs": [],
   "source": [
    "df_y = df[['label']]\n",
    "test_y = test_data[['label']]\n",
    "\n",
    "# 訓練データをテストデータを混ぜて、後の処理でまた分離している、何故?\n",
    "X_all = pd.concat([df_x, test_x])\n",
    "y_all = pd.concat([df_y, test_y])"
   ]
  },
  {
   "cell_type": "code",
   "execution_count": null,
   "metadata": {},
   "outputs": [],
   "source": [
    "X_train, X_test, y_train, y_test = train_test_split(X_all, y_all, test_size=0.2, shuffle=True, random_state=101)"
   ]
  },
  {
   "cell_type": "code",
   "execution_count": null,
   "metadata": {},
   "outputs": [],
   "source": [
    "class Objective_DTC:\n",
    "\n",
    "    def __init__(self, X, y):\n",
    "        self.X = X\n",
    "        self.y = y\n",
    "\n",
    "    def __call__(self, trial):\n",
    "\n",
    "        params = {\n",
    "            'criterion': trial.suggest_categorical('criterion', ['gini', 'entropy']),\n",
    "            'max_depth': trial.suggest_int('max_depth', 1, 64),\n",
    "        }\n",
    "\n",
    "        model = DecisionTreeClassifier(**params)\n",
    "\n",
    "        scores = cross_validate(model, self.X, self.y, scoring='accuracy', n_jobs=-1)\n",
    "\n",
    "        return scores['test_score'].mean()"
   ]
  },
  {
   "cell_type": "code",
   "execution_count": null,
   "metadata": {},
   "outputs": [],
   "source": [
    "objective = Objective_DTC(X_train, y_train)\n",
    "study = optuna.create_study()\n",
    "study.optimize(objective, timeout=60)\n",
    "print('params:', study.best_params)"
   ]
  },
  {
   "cell_type": "code",
   "execution_count": null,
   "metadata": {},
   "outputs": [],
   "source": [
    "model = DecisionTreeClassifier(**study.best_params)\n",
    "model.fit(X_train, y_train)\n",
    "\n",
    "pred = model.predict(X_test)\n",
    "\n",
    "print('Accuracy: {:.5f} %'.format(100 * accuracy_score(y_test, pred)))\n",
    "print('Confusion Matrix')\n",
    "print(confusion_matrix(y_test, pred))"
   ]
  },
  {
   "cell_type": "code",
   "execution_count": null,
   "metadata": {},
   "outputs": [],
   "source": []
  }
 ],
 "metadata": {
  "kernelspec": {
   "display_name": "venv",
   "language": "python",
   "name": "python3"
  },
  "language_info": {
   "codemirror_mode": {
    "name": "ipython",
    "version": 3
   },
   "file_extension": ".py",
   "mimetype": "text/x-python",
   "name": "python",
   "nbconvert_exporter": "python",
   "pygments_lexer": "ipython3",
   "version": "3.10.14"
  }
 },
 "nbformat": 4,
 "nbformat_minor": 2
}
