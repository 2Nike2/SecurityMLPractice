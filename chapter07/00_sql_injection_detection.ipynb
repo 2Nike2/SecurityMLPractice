{
 "cells": [
  {
   "cell_type": "markdown",
   "metadata": {},
   "source": [
    "### データセットの取得\n",
    "同じディレクトリで\n",
    "git clone https://github.com/Morzeux/HttpParamsDataset  \n",
    "を実行してデータを取得する"
   ]
  },
  {
   "cell_type": "code",
   "execution_count": null,
   "metadata": {},
   "outputs": [],
   "source": [
    "import pandas as pd\n",
    "import numpy as np\n",
    "import matplotlib.pyplot as plt"
   ]
  },
  {
   "cell_type": "code",
   "execution_count": null,
   "metadata": {},
   "outputs": [],
   "source": [
    "df = pd.read_csv('./HttpParamsDataset/payload_train.csv')"
   ]
  },
  {
   "cell_type": "code",
   "execution_count": null,
   "metadata": {},
   "outputs": [],
   "source": [
    "df"
   ]
  },
  {
   "cell_type": "code",
   "execution_count": null,
   "metadata": {},
   "outputs": [],
   "source": [
    "def H_entropy(x):\n",
    "    prob = [ float(x.count(c)) / len(x) for c in dict.fromkeys(list(x))]\n",
    "    H = - sum([ p * np.log2(p) for p in prob])\n",
    "    return H"
   ]
  },
  {
   "cell_type": "code",
   "execution_count": null,
   "metadata": {},
   "outputs": [],
   "source": [
    "df_norm = df[df.attack_type == 'norm']\n",
    "\n",
    "norm_entropies = []\n",
    "\n",
    "for i in df_norm['payload']:\n",
    "    norm_entropies.append(H_entropy(i))"
   ]
  },
  {
   "cell_type": "code",
   "execution_count": null,
   "metadata": {},
   "outputs": [],
   "source": [
    "print('通常の場合のエントロピー', sum(norm_entropies) / len(norm_entropies))"
   ]
  },
  {
   "cell_type": "code",
   "execution_count": null,
   "metadata": {},
   "outputs": [],
   "source": [
    "df_sqli = df[df.attack_type == 'sqli']\n",
    "\n",
    "sqli_entropies = []\n",
    "\n",
    "for i in df_sqli['payload']:\n",
    "    sqli_entropies.append(H_entropy(i))"
   ]
  },
  {
   "cell_type": "code",
   "execution_count": null,
   "metadata": {},
   "outputs": [],
   "source": [
    "print('SQLインジェクションの場合のエントロピー', sum(sqli_entropies) / len(sqli_entropies))"
   ]
  },
  {
   "cell_type": "code",
   "execution_count": null,
   "metadata": {},
   "outputs": [],
   "source": [
    "fig, ax = plt.subplots()\n",
    "\n",
    "ax.set_title('Entropies of normal HTTP query string')\n",
    "ax.set_xlabel('Entropy')\n",
    "ax.set_ylabel('Numbers')\n",
    "plt.hist(norm_entropies, bins=30, range=(0, 6), color='green')\n",
    "plt.show()"
   ]
  },
  {
   "cell_type": "code",
   "execution_count": null,
   "metadata": {},
   "outputs": [],
   "source": [
    "fig, ax = plt.subplots()\n",
    "\n",
    "ax.set_title('Entropies of SQLi HTTP query string')\n",
    "ax.set_xlabel('Entropy')\n",
    "ax.set_ylabel('Numbers')\n",
    "plt.hist(sqli_entropies, bins=30, range=(0, 6), color='red')\n",
    "plt.show()"
   ]
  },
  {
   "cell_type": "code",
   "execution_count": null,
   "metadata": {},
   "outputs": [],
   "source": []
  }
 ],
 "metadata": {
  "kernelspec": {
   "display_name": "venv",
   "language": "python",
   "name": "python3"
  },
  "language_info": {
   "codemirror_mode": {
    "name": "ipython",
    "version": 3
   },
   "file_extension": ".py",
   "mimetype": "text/x-python",
   "name": "python",
   "nbconvert_exporter": "python",
   "pygments_lexer": "ipython3",
   "version": "3.10.14"
  }
 },
 "nbformat": 4,
 "nbformat_minor": 2
}
