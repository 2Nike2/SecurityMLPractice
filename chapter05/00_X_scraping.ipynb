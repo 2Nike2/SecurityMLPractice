{
 "cells": [
  {
   "cell_type": "markdown",
   "metadata": {},
   "source": [
    "<p style=\"color: red\">XのAPIによるポストの検索が有料の為、断念</p>"
   ]
  },
  {
   "cell_type": "markdown",
   "metadata": {},
   "source": [
    "### 前準備\n",
    "Xの開発者アカウントの登録が必要"
   ]
  },
  {
   "cell_type": "code",
   "execution_count": null,
   "metadata": {},
   "outputs": [],
   "source": [
    "import tweepy\n",
    "import json\n",
    "import numpy as numpy\n",
    "import pandas as pd\n",
    "import os"
   ]
  },
  {
   "cell_type": "code",
   "execution_count": null,
   "metadata": {},
   "outputs": [],
   "source": [
    "consumer_key = os.environ['X_CONSUMER_KEY']\n",
    "consumer_secret = os.environ['X_CONSUMER_SECRET']\n",
    "access_token = os.environ['X_ACCESS_TOKEN']\n",
    "access_token_secret = os.environ['X_ACCESS_TOKEN_SECRET']"
   ]
  },
  {
   "cell_type": "markdown",
   "metadata": {},
   "source": [
    "### 認証およびAPI呼び出し設定"
   ]
  },
  {
   "cell_type": "code",
   "execution_count": null,
   "metadata": {},
   "outputs": [],
   "source": [
    "auth = tweepy.OAuthHandler(consumer_key, consumer_secret)\n",
    "auth.set_access_token(access_token, access_token_secret)\n",
    "api = tweepy.API(auth,\n",
    "                 parser=tweepy.parsers.JSONParser(),\n",
    "                 wait_on_rate_limit=True)"
   ]
  },
  {
   "cell_type": "code",
   "execution_count": null,
   "metadata": {},
   "outputs": [],
   "source": [
    "search_term = \"exploit http -fiter:retweets\"\n",
    "\n",
    "oldest_tweet = None\n",
    "\n",
    "TempDict = []\n",
    "\n",
    "counter = 0\n",
    "\n",
    "num_search = 1\n",
    "num_tweet_per_search = 3\n",
    "for x in range(num_search):\n",
    "\n",
    "    public_tweets = api.search_tweets(search_term, count=100, result_type=\"recent\", tweet_mode=\"extended\", \n",
    "                               max_id=oldest_tweet)\n",
    "    \n",
    "    for tweet in public_tweets[\"statuses\"]:\n",
    "        if not \"quoted_status\" in tweet:\n",
    "            TempDict.append(tweet)\n",
    "            counter += 1\n",
    "\n",
    "        oldest_tweet = tweet[\"id\"]\n",
    "        \n",
    "print(\"Tweet {}件を収集しました\".format(counter))"
   ]
  },
  {
   "cell_type": "code",
   "execution_count": null,
   "metadata": {},
   "outputs": [],
   "source": []
  }
 ],
 "metadata": {
  "kernelspec": {
   "display_name": "venv",
   "language": "python",
   "name": "python3"
  },
  "language_info": {
   "codemirror_mode": {
    "name": "ipython",
    "version": 3
   },
   "file_extension": ".py",
   "mimetype": "text/x-python",
   "name": "python",
   "nbconvert_exporter": "python",
   "pygments_lexer": "ipython3",
   "version": "3.10.13"
  }
 },
 "nbformat": 4,
 "nbformat_minor": 2
}
