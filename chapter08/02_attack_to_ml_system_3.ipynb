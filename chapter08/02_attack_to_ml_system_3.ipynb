{
 "cells": [
  {
   "cell_type": "code",
   "execution_count": null,
   "metadata": {},
   "outputs": [],
   "source": [
    "import numpy as np\n",
    "import tensorflow as tf\n",
    "\n",
    "from tensorflow.keras.layers import Conv2D, Dense, Flatten, MaxPooling2D, Dropout\n",
    "from tensorflow.keras.models import Sequential\n",
    "from tensorflow.keras.losses import CategoricalCrossentropy\n",
    "from tensorflow.keras.optimizers import Adam\n",
    "from art.estimators.classification import TensorFlowV2Classifier\n",
    "from art.utils import load_mnist\n",
    "import matplotlib.pyplot as plt\n",
    "from art.attacks.extraction.copycat_cnn import CopycatCNN\n",
    "from art.attacks.evasion import FastGradientMethod\n",
    "from art.attacks.evasion.carlini import CarliniL2Method\n",
    "from art.utils import random_targets\n",
    "from art.defences.trainer.adversarial_trainer import AdversarialTrainer\n",
    "from art.estimators.certification.randomized_smoothing import TensorFlowV2RandomizedSmoothing"
   ]
  },
  {
   "cell_type": "code",
   "execution_count": null,
   "metadata": {},
   "outputs": [],
   "source": [
    "(X_train, y_train), (X_test, y_test), min_pixel_value, max_pixel_value = load_mnist()\n",
    "\n",
    "nb_classes = 10"
   ]
  },
  {
   "cell_type": "code",
   "execution_count": null,
   "metadata": {},
   "outputs": [],
   "source": [
    "model = Sequential()\n",
    "model.add(Conv2D(1 , kernel_size=(7, 7), activation='relu'))\n",
    "model.add(MaxPooling2D(pool_size=(4, 4)))\n",
    "model.add(Flatten())\n",
    "model.add(Dense(nb_classes, activation='softmax'))\n",
    "model.compile()\n",
    "\n",
    "model.summary()"
   ]
  },
  {
   "cell_type": "code",
   "execution_count": null,
   "metadata": {},
   "outputs": [],
   "source": [
    "nb_epochs = 5\n",
    "batch_size = 128\n",
    "input_shape = X_train.shape[1:]\n",
    "alpha = 0.001\n",
    "sample_size = 100"
   ]
  },
  {
   "cell_type": "code",
   "execution_count": null,
   "metadata": {},
   "outputs": [],
   "source": [
    "optimizer = Adam(learning_rate=alpha)\n",
    "loss_object = CategoricalCrossentropy(from_logits=False)\n",
    "def train_step(model, images, labels):\n",
    "    with tf.GradientTape() as tape:\n",
    "        predictions = model(images, training=True)\n",
    "        loss = loss_object(labels, predictions)\n",
    "    gradients = tape.gradient(loss, model.trainable_variables)\n",
    "    optimizer.apply_gradients(zip(gradients, model.trainable_variables))\n"
   ]
  },
  {
   "cell_type": "markdown",
   "metadata": {},
   "source": [
    "### RandomizedSmoothing"
   ]
  },
  {
   "cell_type": "code",
   "execution_count": null,
   "metadata": {},
   "outputs": [],
   "source": [
    "sigmas = {\n",
    "    'Smoothed Classifier, sigma=0.1': 0.1,\n",
    "    'Smoothed Classifier, sigma=0.25': 0.25,\n",
    "    'Smoothed Classifier, sigma=0.5': 0.5,\n",
    "}\n",
    "classifiers = {}"
   ]
  },
  {
   "cell_type": "code",
   "execution_count": null,
   "metadata": {},
   "outputs": [],
   "source": [
    "def get_cert_acc(radius, pred, y_test):\n",
    "    \n",
    "    rad_list = np.linspace(0, 2.25, 201)\n",
    "    cert_acc = []\n",
    "    num_cert = len(np.where(radius > 0)[0])\n",
    "\n",
    "    for r in rad_list:\n",
    "        rad_idx = np.where(radius > r)[0]\n",
    "        y_test_subset = y_test[rad_idx]\n",
    "        cert_acc.append(np.sum(pred[rad_idx] == np.argmax(y_test_subset, axis=1)) / num_cert)\n",
    "\n",
    "    return cert_acc"
   ]
  },
  {
   "cell_type": "code",
   "execution_count": null,
   "metadata": {},
   "outputs": [],
   "source": [
    "for name in sigmas:\n",
    "    print(name)\n",
    "    sigma = sigmas[name]\n",
    "\n",
    "    classifier = TensorFlowV2RandomizedSmoothing(\n",
    "        model=model,\n",
    "        nb_classes=nb_classes,\n",
    "        input_shape=input_shape,\n",
    "        loss_object=loss_object,\n",
    "        train_step=train_step,\n",
    "        channels_first=False,\n",
    "        clip_values=(min_pixel_value, max_pixel_value),\n",
    "        sample_size=sample_size,\n",
    "        scale=sigma,\n",
    "        alpha=alpha)\n",
    "    \n",
    "    print('Training')\n",
    "\n",
    "    classifier.fit(X_train, y_train, nb_epochs=nb_epochs, batch_size=batch_size)\n",
    "\n",
    "    print('Certifying')\n",
    "\n",
    "    cert_preds, radius = classifier.certify(X_test, n=10)\n",
    "\n",
    "    rad_list = np.linspace(0, 2.25, 201)\n",
    "\n",
    "    plt.plot(rad_list, get_cert_acc(radius, cert_preds, y_test), label=name)\n",
    "\n",
    "    classifiers[name] = classifier\n",
    "\n",
    "\n",
    "plt.xlabel('Radius')\n",
    "plt.ylabel('Certified Accuracy')\n",
    "plt.legend()\n",
    "plt.show()"
   ]
  },
  {
   "cell_type": "code",
   "execution_count": null,
   "metadata": {},
   "outputs": [],
   "source": [
    "for classifier in classifiers:\n",
    "    preds = classifiers[classifier].predict(X_test)\n",
    "    acc = np.sum(np.argmax(preds, axis=1) == np.argmax(y_test, axis=1)) / len(y_test)\n",
    "    print(f'Accuracy of {classifier}: {100 * acc} %')"
   ]
  },
  {
   "cell_type": "markdown",
   "metadata": {},
   "source": [
    "### Resistance to FGSM(Fast Gradient Sign Method)"
   ]
  },
  {
   "cell_type": "code",
   "execution_count": null,
   "metadata": {},
   "outputs": [],
   "source": [
    "fgm_attack = FastGradientMethod(estimator=classifiers['Smoothed Classifier, sigma=0.1'], eps=0.1)\n",
    "\n",
    "X_test_adv = fgm_attack.generate(x=X_test)\n",
    "\n",
    "for classifier in classifiers:\n",
    "    preds = classifiers[classifier].predict(X_test_adv)\n",
    "    acc = np.sum(np.argmax(preds, axis=1) == np.argmax(y_test, axis=1)) / len(y_test)\n",
    "    print(f'Accuracy of {classifier} on adversarial test examples: {100 * acc} %')\n"
   ]
  }
 ],
 "metadata": {
  "kernelspec": {
   "display_name": "venv",
   "language": "python",
   "name": "python3"
  },
  "language_info": {
   "codemirror_mode": {
    "name": "ipython",
    "version": 3
   },
   "file_extension": ".py",
   "mimetype": "text/x-python",
   "name": "python",
   "nbconvert_exporter": "python",
   "pygments_lexer": "ipython3",
   "version": "3.10.14"
  }
 },
 "nbformat": 4,
 "nbformat_minor": 2
}
