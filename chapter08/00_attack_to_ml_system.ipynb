{
 "cells": [
  {
   "cell_type": "code",
   "execution_count": null,
   "metadata": {},
   "outputs": [],
   "source": [
    "import numpy as np\n",
    "import tensorflow as tf\n",
    "\n",
    "from tensorflow.keras.layers import Conv2D, Dense, Flatten, MaxPooling2D, Dropout\n",
    "from tensorflow.keras.models import Sequential\n",
    "from tensorflow.keras.losses import categorical_crossentropy\n",
    "from tensorflow.keras.optimizers import Adam\n",
    "from art.estimators.classification import TensorFlowV2Classifier\n",
    "from art.utils import load_mnist\n",
    "import matplotlib.pyplot as plt\n",
    "from art.attacks.extraction.copycat_cnn import CopycatCNN"
   ]
  },
  {
   "cell_type": "code",
   "execution_count": null,
   "metadata": {},
   "outputs": [],
   "source": [
    "(X_train, y_train), (X_test, y_test), min_pixel_value, max_pixel_value = load_mnist()\n",
    "\n",
    "nb_classes = 10"
   ]
  },
  {
   "cell_type": "code",
   "execution_count": null,
   "metadata": {},
   "outputs": [],
   "source": [
    "model = Sequential()\n",
    "model.add(Conv2D(1 , kernel_size=(7, 7), activation='relu'))\n",
    "model.add(MaxPooling2D(pool_size=(4, 4)))\n",
    "model.add(Flatten())\n",
    "model.add(Dense(nb_classes, activation='softmax'))\n",
    "model.compile()\n",
    "\n",
    "model.summary()"
   ]
  },
  {
   "cell_type": "code",
   "execution_count": null,
   "metadata": {},
   "outputs": [],
   "source": [
    "victim_classifier = TensorFlowV2Classifier(model=model, loss_object=tf.keras.losses.CategoricalCrossentropy(from_logits=False), optimizer=tf.keras.optimizers.Adam(learning_rate=0.01), clip_values=(0, 1), nb_classes=nb_classes, input_shape=(28, 28, 1))\n",
    "victim_classifier.fit(X_train, y_train, batch_size=128, nb_epochs=5)"
   ]
  },
  {
   "cell_type": "code",
   "execution_count": null,
   "metadata": {},
   "outputs": [],
   "source": [
    "predictions = victim_classifier.predict(X_test)\n",
    "accuracy = np.sum(np.argmax(predictions, axis=1) == np.argmax(y_test, axis=1)) / len(y_test)\n",
    "print(\"Accuracy on benign test examples: {} %\".format(accuracy * 100))\n"
   ]
  },
  {
   "cell_type": "code",
   "execution_count": null,
   "metadata": {},
   "outputs": [],
   "source": [
    "target_index = 98\n",
    "target_X = X_test[np.newaxis ,target_index]\n",
    "target_pred = np.argmax(victim_classifier.predict(target_X), axis=1)[0]\n",
    "plt.imshow(X_test[target_index].reshape(28, 28), cmap='gray')\n",
    "print(f'Prediction {target_pred}, Ground Truth {np.argmax(y_test[target_index])}')"
   ]
  },
  {
   "cell_type": "code",
   "execution_count": null,
   "metadata": {},
   "outputs": [],
   "source": [
    "thieved_model = Sequential()\n",
    "thieved_model.add(Conv2D(32, kernel_size=(3, 3), activation='relu', input_shape=(28, 28, 1)))\n",
    "thieved_model.add(Conv2D(64, (3, 3), activation='relu'))\n",
    "thieved_model.add(MaxPooling2D(pool_size=(2, 2)))\n",
    "thieved_model.add(Dropout(0.5))\n",
    "thieved_model.add(Flatten())\n",
    "thieved_model.add(Dense(128, activation='relu'))\n",
    "thieved_model.add(Dropout(0.5))\n",
    "thieved_model.add(Dense(nb_classes, activation='softmax'))\n",
    "thieved_model.compile()\n",
    "\n",
    "thieved_classifier = TensorFlowV2Classifier(model=thieved_model, loss_object=tf.keras.losses.CategoricalCrossentropy(from_logits=False), optimizer=tf.keras.optimizers.Adam(learning_rate=0.01), clip_values=(0, 1), nb_classes=nb_classes, input_shape=(28, 28, 1))"
   ]
  },
  {
   "cell_type": "code",
   "execution_count": null,
   "metadata": {},
   "outputs": [],
   "source": [
    "attack = CopycatCNN(classifier=victim_classifier, batch_size_fit=16, batch_size_query=16, nb_epochs=10, nb_stolen=1000)\n",
    "thieved_classifier = attack.extract(x=X_train, thieved_classifier=thieved_classifier)"
   ]
  },
  {
   "cell_type": "code",
   "execution_count": null,
   "metadata": {},
   "outputs": [],
   "source": [
    "predictions = thieved_classifier.predict(X_test)\n",
    "accuracy = np.sum(np.argmax(predictions, axis=1) == np.argmax(y_test, axis=1)) / len(y_test)\n",
    "print(\"Accuracy on benign test examples: {} %\".format(accuracy * 100))"
   ]
  },
  {
   "cell_type": "code",
   "execution_count": null,
   "metadata": {},
   "outputs": [],
   "source": [
    "target_index = 98\n",
    "target_X = X_test[np.newaxis ,target_index]\n",
    "target_pred = np.argmax(thieved_classifier.predict(target_X), axis=1)[0]\n",
    "plt.imshow(X_test[target_index].reshape(28, 28), cmap='gray')\n",
    "print(f'Prediction {target_pred}, Ground Truth {np.argmax(y_test[target_index])}')"
   ]
  },
  {
   "cell_type": "code",
   "execution_count": null,
   "metadata": {},
   "outputs": [],
   "source": [
    "victim_preds = np.argmax(victim_classifier.predict(x=X_test), axis=1)\n",
    "thieved_preds = np.argmax(thieved_classifier.predict(x=X_test), axis=1)\n",
    "\n",
    "agreement_rate = np.sum(victim_preds == thieved_preds) / len(victim_preds)\n",
    "print(f'agreement rate between victim_preds and thieved_preds: {agreement_rate * 100}%')\n"
   ]
  },
  {
   "cell_type": "code",
   "execution_count": null,
   "metadata": {},
   "outputs": [],
   "source": []
  }
 ],
 "metadata": {
  "kernelspec": {
   "display_name": "venv",
   "language": "python",
   "name": "python3"
  },
  "language_info": {
   "codemirror_mode": {
    "name": "ipython",
    "version": 3
   },
   "file_extension": ".py",
   "mimetype": "text/x-python",
   "name": "python",
   "nbconvert_exporter": "python",
   "pygments_lexer": "ipython3",
   "version": "3.10.14"
  }
 },
 "nbformat": 4,
 "nbformat_minor": 2
}
