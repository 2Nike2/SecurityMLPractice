{
 "cells": [
  {
   "cell_type": "code",
   "execution_count": null,
   "metadata": {},
   "outputs": [],
   "source": [
    "import lightgbm as lgb\n",
    "from art.estimators.classification import LightGBMClassifier\n",
    "from art.utils import load_mnist\n",
    "import numpy as np\n",
    "from art.attacks.evasion import ZooAttack\n",
    "import matplotlib.pyplot as plt"
   ]
  },
  {
   "cell_type": "code",
   "execution_count": null,
   "metadata": {},
   "outputs": [],
   "source": [
    "(X_train, y_train), (X_test, y_test), min_pixel_value, max_pixel_value = load_mnist()"
   ]
  },
  {
   "cell_type": "code",
   "execution_count": null,
   "metadata": {},
   "outputs": [],
   "source": [
    "num_test_data = 10\n",
    "X_test = X_test[:num_test_data]\n",
    "y_test = y_test[:num_test_data]"
   ]
  },
  {
   "cell_type": "code",
   "execution_count": null,
   "metadata": {},
   "outputs": [],
   "source": [
    "nb_sample_train = X_train.shape[0]\n",
    "nb_sample_test = X_test.shape[0]\n",
    "X_train = X_train.reshape((nb_sample_train, 28 * 28))\n",
    "X_test = X_test.reshape((nb_sample_test, 28 * 28))"
   ]
  },
  {
   "cell_type": "code",
   "execution_count": null,
   "metadata": {},
   "outputs": [],
   "source": [
    "params = {\n",
    "    'objective': 'multiclass',\n",
    "    'metric': 'multi_logloss',\n",
    "    'num_class': 10,\n",
    "}\n",
    "lgb_train = lgb.Dataset(X_train, label=np.argmax(y_train, axis=1))\n",
    "lgb_test = lgb.Dataset(X_test, label=np.argmax(y_test, axis=1))\n",
    "model = lgb.train(params=params, train_set=lgb_train, num_boost_round=100, valid_sets=[lgb_test])"
   ]
  },
  {
   "cell_type": "code",
   "execution_count": null,
   "metadata": {},
   "outputs": [],
   "source": [
    "victim_classifier = LightGBMClassifier(model=model, clip_values=(min_pixel_value, max_pixel_value))"
   ]
  },
  {
   "cell_type": "code",
   "execution_count": null,
   "metadata": {},
   "outputs": [],
   "source": [
    "attack = ZooAttack(\n",
    "    classifier=victim_classifier,\n",
    "    confidence=0.5,\n",
    "    learning_rate=1e-1,\n",
    "    max_iter=200,\n",
    "    binary_search_steps=100,\n",
    "    initial_const=1e-1,\n",
    "    nb_parallel=250,\n",
    "    batch_size=1,\n",
    "    variable_h=0.01\n",
    ")"
   ]
  },
  {
   "cell_type": "code",
   "execution_count": null,
   "metadata": {},
   "outputs": [],
   "source": [
    "X_test_adv = attack.generate(x=X_test)"
   ]
  },
  {
   "cell_type": "code",
   "execution_count": null,
   "metadata": {},
   "outputs": [],
   "source": [
    "preds = victim_classifier.predict(X_test)\n",
    "preds_adv = victim_classifier.predict(X_test_adv)\n",
    "\n",
    "print('test data before attack:', np.argmax(preds, axis=1))\n",
    "print('test data after attack:', np.argmax(preds_adv, axis=1))"
   ]
  },
  {
   "cell_type": "code",
   "execution_count": null,
   "metadata": {},
   "outputs": [],
   "source": [
    "target_index = 4\n",
    "print((f'before: {np.argmax(preds[target_index])}, after: {np.argmax(preds_adv[target_index])}'))\n",
    "print('l2', np.linalg.norm((X_test[target_index] - X_test_adv[target_index])).mean())\n"
   ]
  },
  {
   "cell_type": "code",
   "execution_count": null,
   "metadata": {},
   "outputs": [],
   "source": [
    "fig, ax = plt.subplots(nrows=1, ncols=2)\n",
    "ax[0].imshow(X_test[target_index].reshape((28, 28)), cmap='gray')\n",
    "ax[1].imshow(X_test_adv[target_index].reshape((28, 28)), cmap='gray')\n",
    "plt.show()"
   ]
  },
  {
   "cell_type": "code",
   "execution_count": null,
   "metadata": {},
   "outputs": [],
   "source": []
  }
 ],
 "metadata": {
  "kernelspec": {
   "display_name": "venv",
   "language": "python",
   "name": "python3"
  },
  "language_info": {
   "codemirror_mode": {
    "name": "ipython",
    "version": 3
   },
   "file_extension": ".py",
   "mimetype": "text/x-python",
   "name": "python",
   "nbconvert_exporter": "python",
   "pygments_lexer": "ipython3",
   "version": "3.10.14"
  }
 },
 "nbformat": 4,
 "nbformat_minor": 2
}
