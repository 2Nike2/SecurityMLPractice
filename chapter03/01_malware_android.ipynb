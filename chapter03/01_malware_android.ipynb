{
 "cells": [
  {
   "cell_type": "markdown",
   "metadata": {},
   "source": [
    "### データセットのダウンロード\n",
    "https://github.com/oreilly-japan/ml-security-jp/blob/master/ch03/archive.zip  \n",
    "を取得して同じディレクトリに格納し、解凍を行う。  "
   ]
  },
  {
   "cell_type": "code",
   "execution_count": null,
   "metadata": {},
   "outputs": [],
   "source": [
    "import pandas as pd\n",
    "import matplotlib.pyplot as plt\n",
    "from sklearn.svm import SVC\n",
    "from sklearn.metrics import accuracy_score, confusion_matrix\n",
    "from sklearn.model_selection import train_test_split\n",
    "import numpy as np\n",
    "import optuna\n",
    "from sklearn.model_selection import cross_validate"
   ]
  },
  {
   "cell_type": "code",
   "execution_count": null,
   "metadata": {},
   "outputs": [],
   "source": [
    "AndroidDataset = pd.read_csv('train.csv', sep=';')"
   ]
  },
  {
   "cell_type": "code",
   "execution_count": null,
   "metadata": {},
   "outputs": [],
   "source": [
    "AndroidDataset.type.value_counts()"
   ]
  },
  {
   "cell_type": "code",
   "execution_count": null,
   "metadata": {},
   "outputs": [],
   "source": [
    "print(AndroidDataset.columns)"
   ]
  },
  {
   "cell_type": "code",
   "execution_count": null,
   "metadata": {},
   "outputs": [],
   "source": [
    "pd.Series.sort_values(AndroidDataset[AndroidDataset.type == 1].sum(axis=0), ascending=False)[1:11] # 0は含まない(typeが全て1でこれがTopなのは当然)"
   ]
  },
  {
   "cell_type": "code",
   "execution_count": null,
   "metadata": {},
   "outputs": [],
   "source": [
    "top10 = [\n",
    "    'android.permission.INTERNET',\n",
    "    'android.permission.READ_PHONE_STATE',\n",
    "    'android.permission.ACCESS_NETWORK_STATE',\n",
    "    'android.permission.WRITE_EXTERNAL_STORAGE',\n",
    "    'android.permission.ACCESS_WIFI_STATE',\n",
    "    'android.permission.READ_SMS',\n",
    "    'android.permission.WRITE_SMS',\n",
    "    'android.permission.RECEIVE_BOOT_COMPLETED',\n",
    "    'android.permission.ACCESS_COARSE_LOCATION',\n",
    "    'android.permission.CHANGE_WIFI_STATE',\n",
    "]\n",
    "\n",
    "AndroidDataset.loc[AndroidDataset.type == 0, top10].sum()"
   ]
  },
  {
   "cell_type": "code",
   "execution_count": null,
   "metadata": {},
   "outputs": [],
   "source": [
    "fig, axs = plt.subplots(nrows=2, sharex=True)\n",
    "\n",
    "AndroidDataset.loc[AndroidDataset.type == 0, top10].sum().plot(kind='bar', ax=axs[0])\n",
    "AndroidDataset.loc[AndroidDataset.type == 1, top10].sum().plot(kind='bar', ax=axs[1], color='red')"
   ]
  },
  {
   "cell_type": "code",
   "execution_count": null,
   "metadata": {},
   "outputs": [],
   "source": [
    "X = AndroidDataset.iloc[:, :-1]\n",
    "y = AndroidDataset.iloc[:, -1]"
   ]
  },
  {
   "cell_type": "code",
   "execution_count": null,
   "metadata": {},
   "outputs": [],
   "source": [
    "X_train, X_test, y_train, y_test = train_test_split(X, y, test_size=0.2, shuffle=True, random_state=101)"
   ]
  },
  {
   "cell_type": "code",
   "execution_count": null,
   "metadata": {},
   "outputs": [],
   "source": [
    "class Objective_SVM:\n",
    "    def __init__(self, X, y):\n",
    "        self.X = X\n",
    "        self.y = y\n",
    "\n",
    "    def __call__(self, trial):\n",
    "\n",
    "        params = {\n",
    "            'kernel': trial.suggest_categorical('kernel', ['linear', 'poly', 'rbf', 'sigmoid']),\n",
    "            'C': trial.suggest_loguniform('C', 1e-5, 1e2),\n",
    "            'gamma': trial.suggest_categorical('gamma', ['scale', 'auto']),\n",
    "        }\n",
    "\n",
    "        model = SVC(**params)\n",
    "\n",
    "        scores = cross_validate(model, self.X, self.y, n_jobs=-1)\n",
    "\n",
    "        return scores['test_score'].mean()   "
   ]
  },
  {
   "cell_type": "code",
   "execution_count": null,
   "metadata": {},
   "outputs": [],
   "source": [
    "objective = Objective_SVM(X_train, y_train)\n",
    "study = optuna.create_study(direction='maximize')\n",
    "study.optimize(objective, timeout=60)\n",
    "print(study.best_params)"
   ]
  },
  {
   "cell_type": "code",
   "execution_count": null,
   "metadata": {},
   "outputs": [],
   "source": [
    "model = SVC(\n",
    "    kernel=study.best_params['kernel'],\n",
    "    C=study.best_params['C'],\n",
    "    gamma=study.best_params['gamma']\n",
    ")\n",
    "\n",
    "model.fit(X_train, y_train)\n",
    "pred = model.predict(X_test)"
   ]
  },
  {
   "cell_type": "code",
   "execution_count": null,
   "metadata": {},
   "outputs": [],
   "source": [
    "print('Accuracy: {:.5f}%'.format(100 * accuracy_score(y_test, pred)))\n",
    "print(confusion_matrix(y_test, pred))"
   ]
  }
 ],
 "metadata": {
  "kernelspec": {
   "display_name": "venv",
   "language": "python",
   "name": "python3"
  },
  "language_info": {
   "codemirror_mode": {
    "name": "ipython",
    "version": 3
   },
   "file_extension": ".py",
   "mimetype": "text/x-python",
   "name": "python",
   "nbconvert_exporter": "python",
   "pygments_lexer": "ipython3",
   "version": "3.10.13"
  }
 },
 "nbformat": 4,
 "nbformat_minor": 2
}
