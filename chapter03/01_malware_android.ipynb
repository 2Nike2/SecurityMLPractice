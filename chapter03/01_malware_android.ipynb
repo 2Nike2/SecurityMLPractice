{
 "cells": [
  {
   "cell_type": "markdown",
   "metadata": {},
   "source": [
    "### データセットのダウンロード\n",
    "https://github.com/oreilly-japan/ml-security-jp/blob/master/ch03/archive.zip  \n",
    "を取得して同じディレクトリに格納し、解凍を行う。  "
   ]
  },
  {
   "cell_type": "code",
   "execution_count": null,
   "metadata": {},
   "outputs": [],
   "source": [
    "import pandas as pd\n",
    "import matplotlib.pyplot as plt"
   ]
  },
  {
   "cell_type": "code",
   "execution_count": null,
   "metadata": {},
   "outputs": [],
   "source": [
    "AndroidDataset = pd.read_csv('train.csv', sep=';')"
   ]
  },
  {
   "cell_type": "code",
   "execution_count": null,
   "metadata": {},
   "outputs": [],
   "source": [
    "AndroidDataset.type.value_counts()"
   ]
  },
  {
   "cell_type": "code",
   "execution_count": null,
   "metadata": {},
   "outputs": [],
   "source": [
    "print(AndroidDataset.columns)"
   ]
  },
  {
   "cell_type": "code",
   "execution_count": null,
   "metadata": {},
   "outputs": [],
   "source": [
    "pd.Series.sort_values(AndroidDataset[AndroidDataset.type == 1].sum(axis=0), ascending=False)[1:11] # 0は含まない(typeが全て1でこれがTopなのは当然)"
   ]
  },
  {
   "cell_type": "code",
   "execution_count": null,
   "metadata": {},
   "outputs": [],
   "source": [
    "top10 = [\n",
    "    'android.permission.INTERNET',\n",
    "    'android.permission.READ_PHONE_STATE',\n",
    "    'android.permission.ACCESS_NETWORK_STATE',\n",
    "    'android.permission.WRITE_EXTERNAL_STORAGE',\n",
    "    'android.permission.ACCESS_WIFI_STATE',\n",
    "    'android.permission.READ_SMS',\n",
    "    'android.permission.WRITE_SMS',\n",
    "    'android.permission.RECEIVE_BOOT_COMPLETED',\n",
    "    'android.permission.ACCESS_COARSE_LOCATION',\n",
    "    'android.permission.CHANGE_WIFI_STATE',\n",
    "]\n",
    "\n",
    "AndroidDataset.loc[AndroidDataset.type == 0, top10].sum()"
   ]
  },
  {
   "cell_type": "code",
   "execution_count": null,
   "metadata": {},
   "outputs": [],
   "source": [
    "fig, axs = plt.subplots(nrows=2, sharex=True)\n",
    "\n",
    "AndroidDataset.loc[AndroidDataset.type == 0, top10].sum().plot(kind='bar', ax=axs[0])\n",
    "AndroidDataset.loc[AndroidDataset.type == 1, top10].sum().plot(kind='bar', ax=axs[1], color='red')"
   ]
  },
  {
   "cell_type": "code",
   "execution_count": null,
   "metadata": {},
   "outputs": [],
   "source": []
  }
 ],
 "metadata": {
  "kernelspec": {
   "display_name": "venv",
   "language": "python",
   "name": "python3"
  },
  "language_info": {
   "codemirror_mode": {
    "name": "ipython",
    "version": 3
   },
   "file_extension": ".py",
   "mimetype": "text/x-python",
   "name": "python",
   "nbconvert_exporter": "python",
   "pygments_lexer": "ipython3",
   "version": "3.10.13"
  }
 },
 "nbformat": 4,
 "nbformat_minor": 2
}
