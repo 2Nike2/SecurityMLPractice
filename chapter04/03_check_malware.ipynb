{
 "cells": [
  {
   "cell_type": "markdown",
   "metadata": {},
   "source": [
    "### マルウェアのダウンロード\n",
    "https://github.com/InQuest/malware-samples/blob/master/2019-02-Trickbot/374ef83de2b254c4970b830bb93a1dd79955945d24b824a0b35636e14355fe05?raw=true  \n",
    "を取得して同じディレクトリに格納し、「374ef83de2b254c4970b830bb93a1dd79955945d24b824a0b35636e14355fe05」という名前で保存する。  \n",
    "マルウェアのファイルなので取り扱いは要注意、自己責任で。  "
   ]
  },
  {
   "cell_type": "code",
   "execution_count": null,
   "metadata": {},
   "outputs": [],
   "source": [
    "from tensorflow.python .keras.models import load_model\n",
    "from sklearn.preprocessing import StandardScaler\n",
    "import numpy as np\n",
    "import ember\n",
    "import pandas as pd\n",
    "\n",
    "np.random.seed(0)"
   ]
  },
  {
   "cell_type": "markdown",
   "metadata": {},
   "source": [
    "### モデル読み込み"
   ]
  },
  {
   "cell_type": "code",
   "execution_count": null,
   "metadata": {},
   "outputs": [],
   "source": [
    "estimator = load_model('detect_malware_model.h5')"
   ]
  },
  {
   "cell_type": "markdown",
   "metadata": {},
   "source": [
    "### 訓練データ読み込み及びスケーラーの再作成"
   ]
  },
  {
   "cell_type": "code",
   "execution_count": null,
   "metadata": {},
   "outputs": [],
   "source": [
    "X_train, y_train, X_test, y_test = ember.read_vectorized_features(\"./ember_data/ember2018/\")\n",
    "\n",
    "train_rows = (y_train != -1)\n",
    "X_train = X_train[train_rows]\n",
    "y_train = y_train[train_rows]\n",
    "\n",
    "# メモリ容量の問題の為、データ数を絞る。\n",
    "target_num = 160000\n",
    "target_index = np.random.choice(X_train.shape[0], target_num, replace=False)\n",
    "X_train = X_train[target_index]\n",
    "y_train = y_train[target_index]\n",
    "print(pd.DataFrame(y_train).value_counts())\n",
    "\n",
    "scaler  = StandardScaler()\n",
    "X_train = scaler.fit_transform(X_train)"
   ]
  },
  {
   "cell_type": "markdown",
   "metadata": {},
   "source": [
    "### emberの各種不整合の修正\n",
    "ember\\features.py:100 の  \n",
    "output = np.zeros((16, 16), dtype=np.int)  \n",
    "を\n",
    "output = np.zeros((16, 16), dtype=np.int64)  \n",
    "に置き換え  \n",
    "\n",
    "ember\\features.py:557 の  \n",
    "lief_errors = (lief.bad_format, lief.bad_file, lief.pe_error, lief.parser_error, lief.read_out_of_bound,\n",
    "                       RuntimeError)  \n",
    "を  \n",
    "lief_errors = (Exception)\n",
    "に置き換え"
   ]
  },
  {
   "cell_type": "markdown",
   "metadata": {},
   "source": [
    "### 通常ファイルの確認"
   ]
  },
  {
   "cell_type": "code",
   "execution_count": null,
   "metadata": {},
   "outputs": [],
   "source": [
    "sample_data = open('pe', 'rb').read()\n",
    "\n",
    "extractor = ember.PEFeatureExtractor(2)\n",
    "sample_data = np.array(\n",
    "    extractor.feature_vector(sample_data),\n",
    "    dtype=np.float32\n",
    ").reshape(1, -1)\n",
    "sample_data = scaler.transform(sample_data)\n",
    "\n",
    "probability = estimator.predict(sample_data)\n",
    "pred = estimator.predict_classes(sample_data)\n",
    "\n",
    "print(\"確率:\", probability)\n",
    "if pred:\n",
    "    print(\"Malware!\")\n",
    "else:\n",
    "    print(\"Benign file!\")"
   ]
  },
  {
   "cell_type": "markdown",
   "metadata": {},
   "source": [
    "### マルウェアの検出\n",
    "(「Unable to find the section associated with BOUND_IMPORT」メッセージ有、入力の特徴量で上手く取れていないものがある?)"
   ]
  },
  {
   "cell_type": "code",
   "execution_count": null,
   "metadata": {},
   "outputs": [],
   "source": [
    "sample_data = open('374ef83de2b254c4970b830bb93a1dd79955945d24b824a0b35636e14355fe05', 'rb').read()\n",
    "\n",
    "extractor = ember.PEFeatureExtractor(2)\n",
    "sample_data = np.array(\n",
    "    extractor.feature_vector(sample_data),\n",
    "    dtype=np.float32\n",
    ").reshape(1, -1)\n",
    "sample_data = scaler.transform(sample_data)\n",
    "\n",
    "probability = estimator.predict(sample_data)\n",
    "pred = estimator.predict_classes(sample_data)\n",
    "\n",
    "print(\"確率:\", probability)\n",
    "if pred:\n",
    "    print(\"Malware!\")\n",
    "else:\n",
    "    print(\"Benign file!\")"
   ]
  },
  {
   "cell_type": "code",
   "execution_count": null,
   "metadata": {},
   "outputs": [],
   "source": []
  }
 ],
 "metadata": {
  "kernelspec": {
   "display_name": "venv",
   "language": "python",
   "name": "python3"
  },
  "language_info": {
   "codemirror_mode": {
    "name": "ipython",
    "version": 3
   },
   "file_extension": ".py",
   "mimetype": "text/x-python",
   "name": "python",
   "nbconvert_exporter": "python",
   "pygments_lexer": "ipython3",
   "version": "3.10.6"
  }
 },
 "nbformat": 4,
 "nbformat_minor": 2
}
