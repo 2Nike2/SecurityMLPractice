{
 "cells": [
  {
   "cell_type": "markdown",
   "metadata": {},
   "source": [
    "### マルウェアのダウンロード\n",
    "https://www.dropbox.com/s/ep8qjakfwh1rzk4/malimg_dataset.zip?dl=0  \n",
    "を取得して同じディレクトリに格納し、解凍。  \n",
    "マルウェアのファイルなので取り扱いは要注意、自己責任で。  \n",
    "->マルウェアを画像化したpngとテキストファイルのみだった。  "
   ]
  },
  {
   "cell_type": "code",
   "execution_count": null,
   "metadata": {},
   "outputs": [],
   "source": [
    "import os\n",
    "import numpy as np\n",
    "import imageio\n",
    "import array\n",
    "from IPython.display import Image\n",
    "from PIL import Image as PIL_Image\n",
    "from tensorflow.keras.utils import to_categorical\n",
    "from sklearn.model_selection import train_test_split\n",
    "from pprint import pprint\n",
    "from tensorflow.keras.models import Sequential\n",
    "from tensorflow.keras.layers import Dense, Dropout, Flatten, Conv2D, MaxPooling2D"
   ]
  },
  {
   "cell_type": "markdown",
   "metadata": {},
   "source": [
    "### 実行ファイルのグレースケール画像化"
   ]
  },
  {
   "cell_type": "code",
   "execution_count": null,
   "metadata": {},
   "outputs": [],
   "source": [
    "filename = 'pe'\n",
    "f = open(filename, 'rb')\n",
    "ln = os.path.getsize(filename)\n",
    "width = 256\n",
    "rem = ln % width\n",
    "a = array.array(\"B\")\n",
    "a.fromfile(f, ln - rem)\n",
    "g = np.reshape(a, (len(a) // width, width))\n",
    "g = np.uint8(g)\n",
    "imageio.imwrite('putty.png', g)"
   ]
  },
  {
   "cell_type": "code",
   "execution_count": null,
   "metadata": {},
   "outputs": [],
   "source": [
    "# 画像の確認\n",
    "Image(filename='putty.png')"
   ]
  },
  {
   "cell_type": "markdown",
   "metadata": {},
   "source": [
    "### マルウェア画像の確認"
   ]
  },
  {
   "cell_type": "code",
   "execution_count": null,
   "metadata": {},
   "outputs": [],
   "source": [
    "dimen = 32\n",
    "\n",
    "# マルウェアファミリーのリスト(フォルダ名のリスト)\n",
    "dir_path = './malimg_dataset/malimg_paper_dataset_imgs/'\n",
    "sub_dir_list = [name for name in os.listdir(dir_path) if os.path.isdir(os.path.join(dir_path, name))]\n",
    "pprint(sub_dir_list)"
   ]
  },
  {
   "cell_type": "code",
   "execution_count": null,
   "metadata": {},
   "outputs": [],
   "source": [
    "images = list()\n",
    "labels = list()\n",
    "\n",
    "for i in range(len(sub_dir_list)):\n",
    "    label = i\n",
    "    image_names = os.listdir(dir_path + sub_dir_list[i])\n",
    "    for image_path in image_names:\n",
    "        path = dir_path + sub_dir_list[i] + '/' + image_path\n",
    "        image = PIL_Image.open(path).convert('L')\n",
    "        resize_image = image.resize((dimen, dimen))\n",
    "        array = list()\n",
    "        for x in range(dimen):\n",
    "            sub_array = list()\n",
    "            for y in range(dimen):\n",
    "                sub_array.append(resize_image.load()[x, y])\n",
    "            array.append(sub_array)\n",
    "        image_data = np.array(array)\n",
    "        image = np.array(np.reshape(image_data, (dimen, dimen, 1))) / 255\n",
    "        images.append(image)\n",
    "        labels.append(label)\n"
   ]
  },
  {
   "cell_type": "code",
   "execution_count": null,
   "metadata": {},
   "outputs": [],
   "source": [
    "X = np.array(images)\n",
    "y = np.array(to_categorical(np.array(labels), num_classes=len(sub_dir_list)))\n",
    "\n",
    "X_train, X_test, y_train, y_test = train_test_split(X, y, test_size=0.2)"
   ]
  },
  {
   "cell_type": "code",
   "execution_count": null,
   "metadata": {},
   "outputs": [],
   "source": [
    "input_shape = (dimen, dimen, 1)\n",
    "model = Sequential()\n",
    "model.add(Conv2D(16, kernel_size=(3, 3), activation='relu', input_shape=input_shape))\n",
    "model.add(MaxPooling2D(pool_size=(2, 2)))\n",
    "model.add(Conv2D(32, kernel_size=(3, 3), activation='relu'))\n",
    "model.add(MaxPooling2D(pool_size=(2, 2)))\n",
    "model.add(Flatten())\n",
    "model.add(Dense(128, activation='relu'))\n",
    "model.add(Dropout(0.5))\n",
    "model.add(Dense(len(sub_dir_list), activation='softmax'))\n",
    "\n",
    "model.compile(loss='categorical_crossentropy', optimizer='adam', metrics=['accuracy'])"
   ]
  },
  {
   "cell_type": "code",
   "execution_count": null,
   "metadata": {},
   "outputs": [],
   "source": [
    "history = model.fit(X_train, y_train, validation_split=0.1, batch_size=32, epochs=10)"
   ]
  },
  {
   "cell_type": "code",
   "execution_count": null,
   "metadata": {},
   "outputs": [],
   "source": [
    "score = model.evaluate(X_test, y_test, verbose=0)\n",
    "print('テストデータ精度: {:.3f} %'.format(score[1]*100))"
   ]
  },
  {
   "cell_type": "code",
   "execution_count": null,
   "metadata": {},
   "outputs": [],
   "source": []
  }
 ],
 "metadata": {
  "kernelspec": {
   "display_name": "venv",
   "language": "python",
   "name": "python3"
  },
  "language_info": {
   "codemirror_mode": {
    "name": "ipython",
    "version": 3
   },
   "file_extension": ".py",
   "mimetype": "text/x-python",
   "name": "python",
   "nbconvert_exporter": "python",
   "pygments_lexer": "ipython3",
   "version": "3.10.6"
  }
 },
 "nbformat": 4,
 "nbformat_minor": 2
}
