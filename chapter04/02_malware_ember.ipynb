{
 "cells": [
  {
   "cell_type": "code",
   "execution_count": null,
   "metadata": {},
   "outputs": [],
   "source": [
    "import ember\n",
    "import numpy as np\n",
    "import pandas as pd\n",
    "import matplotlib.pyplot as plt\n",
    "from sklearn.preprocessing import StandardScaler\n",
    "\n",
    "np.random.seed(0)"
   ]
  },
  {
   "cell_type": "code",
   "execution_count": null,
   "metadata": {},
   "outputs": [],
   "source": [
    "X_train, y_train, X_test, y_test = ember.read_vectorized_features(\"./ember_data/ember2018/\")"
   ]
  },
  {
   "cell_type": "code",
   "execution_count": null,
   "metadata": {},
   "outputs": [],
   "source": [
    "train_rows = (y_train != -1)\n",
    "X_train = X_train[train_rows]\n",
    "y_train = y_train[train_rows]\n",
    "\n",
    "# メモリ容量の問題の為、データ数を絞る。\n",
    "target_num = 160000\n",
    "target_index = np.random.choice(X_train.shape[0], target_num, replace=False)\n",
    "X_train = X_train[target_index]\n",
    "y_train = y_train[target_index]\n",
    "print(pd.DataFrame(y_train).value_counts())"
   ]
  },
  {
   "cell_type": "code",
   "execution_count": null,
   "metadata": {},
   "outputs": [],
   "source": [
    "orig_data =pd.DataFrame(X_train[6, :])\n",
    "orig_data.plot()"
   ]
  },
  {
   "cell_type": "code",
   "execution_count": null,
   "metadata": {},
   "outputs": [],
   "source": [
    "scaler  = StandardScaler()\n",
    "X_train = scaler.fit_transform(X_train)\n",
    "X_test = scaler.transform(X_test)"
   ]
  },
  {
   "cell_type": "code",
   "execution_count": null,
   "metadata": {},
   "outputs": [],
   "source": [
    "scaled_data = pd.DataFrame(X_train[6, :])\n",
    "scaled_data.plot()"
   ]
  },
  {
   "cell_type": "code",
   "execution_count": null,
   "metadata": {},
   "outputs": [],
   "source": [
    "from tensorflow.keras.backend import clear_session\n",
    "from tensorflow.keras.models import Sequential\n",
    "from tensorflow.keras.layers import Dense, Activation, Dropout\n",
    "from tensorflow.keras.optimizers import Adam\n",
    "import gc\n",
    "import optuna"
   ]
  },
  {
   "cell_type": "code",
   "execution_count": null,
   "metadata": {},
   "outputs": [],
   "source": [
    "def Objective(trial):\n",
    "    X_train_copy = np.copy(X_train)\n",
    "    y_train_copy = np.copy(y_train)\n",
    "    \n",
    "    model = Sequential()\n",
    "    model.add(Dense(2048, activation='relu', input_dim=2381))\n",
    "    model.add(Dense(1024, activation='relu'))\n",
    "    \n",
    "    dropout_rate = trial.suggest_uniform('dropout_rate', 0, 0.5)\n",
    "    model.add(Dropout(dropout_rate))\n",
    "    model.add(Dense(1024, activation='relu'))\n",
    "    model.add(Dense(1, activation='sigmoid'))\n",
    "    \n",
    "    optimizer = Adam(\n",
    "        learning_rate=trial.suggest_loguniform('learning_rate', 1e-5, 1e-1),\n",
    "        beta_1=trial.suggest_uniform('beta_1', 0.0, 1.0),\n",
    "        beta_2=trial.suggest_uniform('beta_2', 0.0, 1.0)\n",
    "        )\n",
    "    \n",
    "    model.compile(optimizer=optimizer, loss='binary_crossentropy', metrics=['accuracy'])\n",
    "    \n",
    "    history = model.fit(\n",
    "        X_train_copy,\n",
    "        y_train_copy,\n",
    "        batch_size=512,\n",
    "        epochs=5,\n",
    "        validation_split=0.2\n",
    "    )\n",
    "    \n",
    "    eval_value = value = 1 - history.history['val_accuracy'][-1]\n",
    "    \n",
    "    clear_session()\n",
    "    del model, optimizer, history, X_train_copy, y_train_copy\n",
    "    gc.collect()\n",
    "    \n",
    "    return eval_value"
   ]
  },
  {
   "cell_type": "code",
   "execution_count": null,
   "metadata": {},
   "outputs": [],
   "source": [
    "study = optuna.create_study(direction='minimize')\n",
    "study.optimize(Objective, n_trials=5, timeout=1200)\n",
    "print('Best params:', study.best_params)"
   ]
  },
  {
   "cell_type": "code",
   "execution_count": null,
   "metadata": {},
   "outputs": [],
   "source": [
    "from sklearn.model_selection import KFold, cross_validate\n",
    "from keras.wrappers.scikit_learn import KerasClassifier"
   ]
  },
  {
   "cell_type": "code",
   "execution_count": null,
   "metadata": {},
   "outputs": [],
   "source": [
    "def buildmodel():\n",
    "    estimator = Sequential()\n",
    "    estimator.add(Dense(2048, activation='relu', input_dim=2381))\n",
    "    estimator.add(Dense(1024, activation='relu'))\n",
    "    \n",
    "    estimator.add(Dropout(rate=study.best_params['dropout_rate']))\n",
    "    estimator.add(Dense(1024, activation='relu'))\n",
    "    estimator.add(Dense(1, activation='sigmoid'))\n",
    "    \n",
    "    optimizer = Adam(\n",
    "        learning_rate=study.best_params['learning_rate'],\n",
    "        beta_1=study.best_params['beta_1'],\n",
    "        beta_2=study.best_params['beta_2']\n",
    "        )\n",
    "    \n",
    "    estimator.compile(optimizer=optimizer, loss='binary_crossentropy', metrics=['accuracy'])\n",
    "    \n",
    "    return  (estimator)\n",
    "\n"
   ]
  },
  {
   "cell_type": "code",
   "execution_count": null,
   "metadata": {},
   "outputs": [],
   "source": [
    "estimator = KerasClassifier(build_fn=buildmodel, epochs=5, batch_size=256, verbose=1)   \n",
    "results = cross_validate(estimator, X_train, y_train, cv=5)\n",
    "print('Test accuracy:', results['test_score'].mean())"
   ]
  },
  {
   "cell_type": "code",
   "execution_count": null,
   "metadata": {},
   "outputs": [],
   "source": [
    "estimator = buildmodel()\n",
    "estimator.fit(X_train, y_train, batch_size=256, epochs=5)\n",
    "estimator.save('detect_malware_model.h5')\n"
   ]
  }
 ],
 "metadata": {
  "kernelspec": {
   "display_name": "venv",
   "language": "python",
   "name": "python3"
  },
  "language_info": {
   "codemirror_mode": {
    "name": "ipython",
    "version": 3
   },
   "file_extension": ".py",
   "mimetype": "text/x-python",
   "name": "python",
   "nbconvert_exporter": "python",
   "pygments_lexer": "ipython3",
   "version": "3.10.6"
  }
 },
 "nbformat": 4,
 "nbformat_minor": 2
}
