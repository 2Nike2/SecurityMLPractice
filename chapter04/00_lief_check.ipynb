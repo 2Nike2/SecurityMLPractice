{
 "cells": [
  {
   "cell_type": "markdown",
   "metadata": {},
   "source": [
    "### lief動作確認対象ファイルのダウンロード\n",
    "https://the.earth.li/~sgtatham/putty/latest/w32/putty.exe  \n",
    "を取得して同じディレクトリに格納し、peという名前にして保存。  "
   ]
  },
  {
   "cell_type": "code",
   "execution_count": null,
   "metadata": {},
   "outputs": [],
   "source": [
    "import lief"
   ]
  },
  {
   "cell_type": "code",
   "execution_count": null,
   "metadata": {},
   "outputs": [],
   "source": [
    "binary = lief.parse('pe')"
   ]
  },
  {
   "cell_type": "code",
   "execution_count": null,
   "metadata": {},
   "outputs": [],
   "source": [
    "MajorLinkerVersion = binary.optional_header.major_linker_version\n",
    "print(\"MajorLinkerVersion: \", MajorLinkerVersion)\n",
    "\n",
    "MinorLinkerVersion = binary.optional_header.minor_linker_version\n",
    "print(\"MinorLinkerVersion: \", MinorLinkerVersion)\n",
    "\n",
    "NumberOfSections = binary.header.numberof_sections\n",
    "print(\"NumberOfSections: \", NumberOfSections)\n",
    "\n",
    "MajorImageVersion = binary.optional_header.major_image_version\n",
    "print(\"MajorImageVersion: \", MajorImageVersion)\n",
    "\n",
    "MinorImageVersion = binary.optional_header.minor_image_version\n",
    "print(\"MinorImageVersion: \", MinorImageVersion)"
   ]
  },
  {
   "cell_type": "code",
   "execution_count": null,
   "metadata": {},
   "outputs": [],
   "source": [
    "DebugSize = binary.data_directories[lief.PE.DataDirectory.TYPES.DEBUG].size\n",
    "print('DebugSize: {}'.format(DebugSize))\n",
    "\n",
    "ImageVersion = binary.optional_header.major_image_version\n",
    "print(\"ImageVersion: {}\".format(ImageVersion))\n",
    "\n",
    "IATRVA = binary.data_directories[lief.PE.DataDirectory.TYPES.IAT].rva\n",
    "print('IATRVA: {}'.format(IATRVA))\n",
    "\n",
    "ExportSize = binary.data_directories[lief.PE.DataDirectory.TYPES.EXPORT_TABLE].size\n",
    "print('ExportSize: {}'.format(ExportSize))\n",
    "\n",
    "ResSize = binary.data_directories[lief.PE.DataDirectory.TYPES.RESOURCE_TABLE].size\n",
    "print('ResSize: {}'.format(ResSize))\n",
    "\n",
    "VirtualSize2 = binary.sections[1].virtual_size\n",
    "print('VirtualSize2: {}'.format(VirtualSize2))\n",
    "\n",
    "NumberOfSections = binary.header.numberof_sections\n",
    "print('NumberOfSections: {}'.format(NumberOfSections))"
   ]
  },
  {
   "cell_type": "code",
   "execution_count": null,
   "metadata": {},
   "outputs": [],
   "source": []
  }
 ],
 "metadata": {
  "kernelspec": {
   "display_name": "venv",
   "language": "python",
   "name": "python3"
  },
  "language_info": {
   "codemirror_mode": {
    "name": "ipython",
    "version": 3
   },
   "file_extension": ".py",
   "mimetype": "text/x-python",
   "name": "python",
   "nbconvert_exporter": "python",
   "pygments_lexer": "ipython3",
   "version": "3.10.13"
  }
 },
 "nbformat": 4,
 "nbformat_minor": 2
}
